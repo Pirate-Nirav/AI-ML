{
 "cells": [
  {
   "cell_type": "code",
   "execution_count": 1,
   "id": "cf55ba50",
   "metadata": {},
   "outputs": [
    {
     "data": {
      "text/plain": [
       "True"
      ]
     },
     "execution_count": 1,
     "metadata": {},
     "output_type": "execute_result"
    }
   ],
   "source": [
    "import os\n",
    "from dotenv import load_dotenv\n",
    "load_dotenv()"
   ]
  },
  {
   "cell_type": "code",
   "execution_count": 2,
   "id": "e42af249",
   "metadata": {},
   "outputs": [],
   "source": [
    "os.environ[\"GOOGLE_API_KEY\"] = os.getenv(\"GOOGLE_API_KEY\")\n",
    "# Langchain tracking\n",
    "os.environ[\"LANGCHAIN_API_KEY\"] = os.getenv(\"LANGCHAIN_API_KEY\")\n",
    "os.environ[\"LANCHAIN_PROJECT_V2\"] = \"true\"\n",
    "os.environ[\"LANGCHAIN_PROJECT\"] = os.getenv(\"LANGCHAIN_PROJECT\") "
   ]
  },
  {
   "cell_type": "code",
   "execution_count": 4,
   "id": "52d53cf9",
   "metadata": {},
   "outputs": [
    {
     "name": "stderr",
     "output_type": "stream",
     "text": [
      "USER_AGENT environment variable not set, consider setting it to identify your requests.\n"
     ]
    }
   ],
   "source": [
    "## data ingestion from the website we need to scrape the data \n",
    "from langchain_community.document_loaders import WebBaseLoader\n"
   ]
  },
  {
   "cell_type": "code",
   "execution_count": 5,
   "id": "96584397",
   "metadata": {},
   "outputs": [
    {
     "data": {
      "text/plain": [
       "<langchain_community.document_loaders.web_base.WebBaseLoader at 0x1a882917cb0>"
      ]
     },
     "execution_count": 5,
     "metadata": {},
     "output_type": "execute_result"
    }
   ],
   "source": [
    "loader = WebBaseLoader(\"https://docs.smith.langchain.com/administration/concepts\")\n",
    "loader"
   ]
  },
  {
   "cell_type": "code",
   "execution_count": 6,
   "id": "a0e94d90",
   "metadata": {},
   "outputs": [
    {
     "data": {
      "text/plain": [
       "[Document(metadata={'source': 'https://docs.smith.langchain.com/administration/concepts', 'title': 'Concepts | 🦜️🛠️ LangSmith', 'description': 'This conceptual guide covers topics related to managing users, organizations, and workspaces within LangSmith.', 'language': 'en'}, page_content=\"\\n\\n\\n\\n\\nConcepts | 🦜️🛠️ LangSmith\\n\\n\\n\\n\\n\\n\\n\\n\\nSkip to main contentOur Building Ambient Agents with LangGraph course is now available on LangChain Academy!API ReferenceRESTPythonJS/TSSearchRegionUSEUGo to AppGet StartedObservabilityEvaluationPrompt EngineeringDeployment (LangGraph Platform)AdministrationTutorialsOptimize tracing spend on LangSmithHow-to GuidesSetupConceptual GuideSelf-hostingPricingReferenceCloud architecture and scalabilityAuthz and AuthnAuthentication methodsdata_formatsEvaluationDataset transformationsRegions FAQsdk_referenceAdministrationConceptual GuideOn this pageConcepts\\nThis conceptual guide covers topics related to managing users, organizations, and workspaces within LangSmith.\\nResource Hierarchy\\u200b\\nOrganizations\\u200b\\nAn organization is a logical grouping of users within LangSmith with its own billing configuration. Typically, there is one organization per company. An organization can have multiple workspaces. For more details, see the setup guide.\\nWhen you log in for the first time, a personal organization will be created for you automatically. If you'd like to collaborate with others, you can create a separate organization and invite your team members to join.\\nThere are a few important differences between your personal organization and shared organizations:\\nFeaturePersonalSharedMaximum workspaces1Variable, depending on plan (see pricing pageCollaborationCannot invite usersCan invite usersBilling: paid plansDeveloper plan onlyAll other plans available\\nWorkspaces\\u200b\\ninfoWorkspaces were formerly called Tenants. Some code and APIs may still reference the old name for a period of time during the transition.\\nA workspace is a logical grouping of users and resources within an organization. A workspace separates trust boundaries for resources and access control.\\nUsers may have permissions in a workspace that grant them access to the resources in that workspace, including tracing projects, datasets, annotation queues, and prompts. For more details, see the setup guide.\\nIt is recommended to create a separate workspace for each team within your organization. To organize resources even further, you can use Resource Tags to group resources within a workspace.\\nThe following image shows a sample workspace settings page:\\n\\nThe following diagram explains the relationship between organizations, workspaces, and the different resources scoped to and within a workspace:\\n\\n\\nSee the table below for details on which features are available in which scope (organization or workspace):\\nResource/SettingScopeTrace ProjectsWorkspaceAnnotation QueuesWorkspaceDeploymentsWorkspaceDatasets & ExperimentsWorkspacePromptsWorkspaceResource TagsWorkspaceAPI KeysWorkspaceSettings including Secrets, Feedback config, Models, Rules, and Shared URLsWorkspaceUser management: Invite User to WorkspaceWorkspaceRBAC: Assigning Workspace RolesWorkspaceData Retention, Usage LimitsWorkspace*Plans and Billing, Credits, InvoicesOrganizationUser management: Invite User to OrganizationOrganization**Adding WorkspacesOrganizationAssigning Organization RolesOrganizationRBAC: Creating/Editing/Deleting Custom RolesOrganization\\n*\\xa0Data retention settings and usage limits will be available soon for the organization level as well\\n**\\xa0Self-hosted installations may enable workspace-level invites of users to the organization via a feature flag.\\nSee the self-hosted user management docs for details.\\nResource tags\\u200b\\nResource tags allow you to organize resources within a workspaces. Each tag is a key-value pair that can be assigned to a resource.\\nTags can be used to filter workspace-scoped resources in the UI and API: Projects, Datasets, Annotation Queues, Deployments, and Experiments.\\nEach new workspace comes with two default tag keys: Application and Environment; as the names suggest, these tags can be used to categorize resources based on the application and environment they belong to.\\nMore tags can be added as needed.\\nLangSmith resource tags are very similar to tags in cloud services like AWS.\\n\\nUser Management and RBAC\\u200b\\nUsers\\u200b\\nA user is a person who has access to LangSmith. Users can be members of one or more organizations and workspaces within those organizations.\\nOrganization members are managed in organization settings:\\n\\nAnd workspace members are managed in workspace settings:\\n\\nAPI keys\\u200b\\nLegacy Keys deprecated as of October 22, 2024We ended support for legacy API keys prefixed with ls__ on October 22, 2024 in favor of personal access tokens (PATs) and service keys. We require using PATs and service keys for all new integrations. API keys prefixed with ls__ will no longer work as of October 22, 2024.\\nExpiration Dates\\u200b\\nWhen you create an API key, you have the option to set an expiration date. Adding an expiration date keys enhances security and minimize the risk of unauthorized access. For example, you may set expiration dates on keys for temporary tasks that require elevated access.\\nBy default, keys never expire. Once expired, an API key is no longer valid and cannot be reactivated or have its expiration modified.\\nPersonal Access Tokens (PATs)\\u200b\\nPersonal Access Tokens (PATs) are used to authenticate requests to the LangSmith API. They are created by users and scoped to a user. The PAT will have the same permissions as the user that created it.\\nWe recommend not using these to authenticate requests from your application, but rather using them for personal scripts or tools that interact with the LangSmith API. If the user associated with the PAT is removed from the organization, the PAT will no longer work.\\nPATs are prefixed with lsv2_pt_\\nService keys\\u200b\\nService keys are similar to PATs, but are used to authenticate requests to the LangSmith API on behalf of a service account. Only admins can create service keys. We recommend using these for applications / services that need to interact with the LangSmith API, such as LangGraph agents or other integrations.\\nService keys are scoped to a workspace and can be used to authenticate requests to the LangSmith API for that workspace.\\nService keys are prefixed with lsv2_sk_\\nnoteTo see how to create a service key or Personal Access Token, see the setup guide\\nOrganization roles\\u200b\\nOrganization roles are distinct from the Enterprise feature (RBAC) below and are used in the context of multiple workspaces. Your organization role determines your workspace membership characteristics and your organization-level permissions. See the organization setup guide for more information.\\nThe organization role selected also impacts workspace membership as described here:\\n\\nOrganization Admin grants full access to manage all organization configuration, users, billing, and workspaces. An Organization Admin has Admin access to all workspaces in an organization\\nOrganization User may read organization information but cannot execute any write actions at the organization level. An Organization User can be added to a subset of workspaces and assigned workspace roles as usual (if RBAC is enabled), which specify permissions at the workspace level.\\n\\ninfoThe Organization User role is only available in organizations on plans with multiple workspaces. In organizations limited to a single workspace, all users are Organization Admins.\\nCustom organization-scoped roles are not available yet.\\nSee the table below for all organization permissions:\\nOrganization UserOrganization AdminView organization configuration✅✅View organization roles✅✅View organization members✅✅View data retention settings✅✅View usage limits✅✅Admin access to all workspaces✅Manage billing settings✅Create workspaces✅Create, edit, and delete organization roles✅Invite new users to organization✅Delete user invites✅Remove users from an organization✅Update data retention settings*✅Update usage limits*✅\\nWorkspace roles (RBAC)\\u200b\\nnoteRBAC (Role-Based Access Control) is a feature that is only available to Enterprise customers. If you are interested in this feature, please contact our sales team at sales@langchain.dev\\nOther plans default to using the Admin role for all users.\\nRoles are used to define the set of permissions that a user has within a workspace. There are three built-in system roles that cannot be edited:\\n\\nAdmin - has full access to all resources within the workspace\\nViewer - has read-only access to all resources within the workspace\\nEditor - has full permissions except for workspace management (adding/removing users, changing roles, configuring service keys)\\n\\nOrganization admins can also create/edit custom roles with specific permissions for different resources.\\nRoles can be managed in organization settings under the Roles tab:\\n\\nFor more details on assigning and creating roles, see the access control setup guide.\\nBest Practices\\u200b\\nEnvironment Separation\\u200b\\nUse resource tags to organize resources by environment using the default tag key Environment and different values for the environment (e.g. dev, staging, prod). This tagging structure will allow you to organize your tracing projects today and easily enforce\\npermissions when we release attribute based access control (ABAC). ABAC on the resource tag will provide a fine-grained way to restrict access to production tracing projects, for example. We do not recommend that you use Workspaces for environment separation as you cannot share resources\\nacross Workspaces. If you would like to promote a prompt from staging to prod, we recommend you use commit tags instead. See docs for more information.\\nUsage and Billing\\u200b\\nData Retention\\u200b\\nIn May 2024, LangSmith introduced a maximum data retention period on traces of 400 days. In June 2024, LangSmith introduced\\na new data retention based pricing model where customers can configure a shorter data retention period on traces in exchange\\nfor savings up to 10x. On this page, we'll go through how data retention works and is priced in LangSmith.\\nWhy retention matters\\u200b\\n\\nPrivacy: Many data privacy regulations, such as GDPR in Europe or CCPA in California, require organizations to delete personal data\\nonce it's no longer necessary for the purposes for which it was collected. Setting retention periods aids in compliance with\\nsuch regulations.\\nCost: LangSmith charges less for traces that have low data retention. See our tutorial on how to optimize spend\\nfor details.\\n\\nHow it works\\u200b\\nLangSmith now has two tiers of traces based on Data Retention with the following characteristics:\\nBaseExtendedPrice$.50 / 1k traces$5 / 1k tracesRetention Period14 days400 days\\nData deletion after retention ends\\nAfter the specified retention period, traces are no longer accessible via the runs table or API. All user data associated\\nwith the trace (e.g. inputs and outputs) is deleted from our internal systems within a day thereafter. Some metadata\\nassociated with each trace may be retained indefinitely for analytics and billing purposes.\\nData retention auto-upgrades\\ncautionAuto upgrades can have an impact on your bill. Please read this section carefully to fully understand your\\nestimated LangSmith tracing costs.\\nWhen you use certain features with base tier traces, their data retention will be automatically upgraded to\\nextended tier. This will increase both the retention period, and the cost of the trace.\\nThe complete list of scenarios in which a trace will upgrade when:\\n\\nFeedback is added to any run on the trace\\nAn Annotation Queue receives any run from the trace\\nA Run Rule matches any run within a trace\\n\\nWhy auto-upgrade traces?\\nWe have two reasons behind the auto-upgrade model for tracing:\\n\\nWe think that traces that match any of these conditions are fundamentally more interesting than other traces, and\\ntherefore it is good for users to be able to keep them around longer.\\nWe philosophically want to charge customers an order of magnitude lower for traces that may not be interacted with meaningfully.\\nWe think auto-upgrades align our pricing model with the value that LangSmith brings, where only traces with meaningful interaction\\nare charged at a higher rate.\\n\\nIf you have questions or concerns about our pricing model, please feel free to reach out to support@langchain.dev and let us know your thoughts!\\nHow does data retention affect downstream features?\\n\\nAnnotation Queues, Run Rules, and Feedback: Traces that use these features will be auto-upgraded.\\nMonitoring: The monitoring tab will continue to work even after a base tier trace's data retention period ends. It is powered by\\ntrace metadata that exists for >30 days, meaning that your monitoring graphs will continue to stay accurate even on\\nbase tier traces.\\nDatasets: Datasets have an indefinite data retention period. Restated differently, if you add a trace's inputs and outputs to a dataset,\\nthey will never be deleted. We suggest that if you are using LangSmith for data collection, you take advantage of the datasets\\nfeature.\\n\\nBilling model\\u200b\\nBillable metrics\\nOn your LangSmith invoice, you will see two metrics that we charge for:\\n\\nLangSmith Traces (Base Charge)\\nLangSmith Traces (Extended Data Retention Upgrades).\\n\\nThe first metric includes all traces, regardless of tier. The second metric just counts the number of extended retention traces.\\nWhy measure all traces + upgrades instead of base and extended traces?\\nA natural question to ask when considering our pricing is why not just show the number of base tier and extended tier\\ntraces directly on the invoice?\\nWhile we understand this would be more straightforward, it doesn't fit trace upgrades properly. Consider a\\nbase tier trace that was recorded on June 30, and upgraded to extended tier on July 3. The base tier\\ntrace occurred in the June billing period, but the upgrade occurred in the July billing period. Therefore,\\nwe need to be able to measure these two events independently to properly bill our customers.\\nIf your trace was recorded as an extended retention trace, then the base and extended metrics will both be recorded\\nwith the same timestamp.\\nCost breakdown\\nThe Base Charge for a trace is .05¢ per trace. We priced the upgrade such that an extended retention trace\\ncosts 10x the price of a base tier trace (.50¢ per trace) including both metrics. Thus, each upgrade costs .45¢.\\nRate Limits\\u200b\\nLangSmith has rate limits which are designed to ensure the stability of the service for all users.\\nTo ensure access and stability, LangSmith will respond with HTTP Status Code 429 indicating that rate or usage limits have been exceeded under the following circumstances:\\nScenarios\\u200b\\nTemporary throughput limit over a 1 minute period at our application load balancer\\u200b\\nThis 429 is the the result of exceeding a fixed number of API calls over a 1 minute window on a per API key/access token basis. The start of the window will vary slightly — it is not guaranteed to start at the start of a clock minute — and may change depending on application deployment events.\\nAfter the max events are received we will respond with a 429 until 60 seconds from the start of the evaluation window has been reached and then the process repeats.\\nThis 429 is thrown by our application load balancer and is a mechanism in place for all LangSmith users independent of plan tier to ensure continuity of service for all users.\\nMethodEndpointLimitWindowDELETESessions301 minutePOST OR PATCHRuns50001 minutePOSTFeedback50001 minute**20001 minute\\nnoteThe LangSmith SDK takes steps to minimize the likelihood of reaching these limits on run-related endpoints by batching up to 100 runs from a single session ID into a single API call.\\nPlan-level hourly trace event limit\\u200b\\nThis 429 is the result of reaching your maximum hourly events ingested and is evaluated in a fixed window starting at the beginning of each clock hour in UTC and resets at the top of each new hour.\\nAn event in this context is the creation or update of a run. So if run is created, then subsequently updated in the same hourly window, that will count as 2 events against this limit.\\nThis is thrown by our application and varies by plan tier, with organizations on our Startup/Plus and Enterprise plan tiers having higher hourly limits than our Free and Developer Plan Tiers which are designed for personal use.\\nPlanLimitWindowDeveloper (no payment on file)50,000 events1 hourDeveloper (with payment on file)250,000 events1 hourStartup/Plus500,000 events1 hourEnterpriseCustomCustom\\nPlan-level hourly trace data ingest limit\\u200b\\nThis 429 is the result of reaching the maximum amount of data ingested across your trace inputs, outputs, and metadata and is evaluated in a fixed window starting at the beginning of each clock hour in UTC and resets at the top of each new hour.\\nTypically, inputs, outputs, and metadata are send on both run creation and update events. So if a run is created and is 2.0MB in size at creation, and 3.0MB in size when updated in the same hourly window, that will count as 5.0MB of storage against this limit.\\nThis is thrown by our application and varies by plan tier, with organizations on our Startup/Plus and Enterprise plan tiers having higher hourly limits than our Free and Developer Plan Tiers which are designed for personal use.\\nPlanLimitWindowDeveloper (no payment on file)500MB1 hourDeveloper (with payment on file)2.5GB1 hourStartup/Plus5.0GB1 hourEnterpriseCustomCustom\\nPlan-level monthly unique traces limit\\u200b\\nThis 429 is the result of reaching your maximum monthly traces ingested and is evaluated in a fixed window starting at the beginning of each calendar month in UTC and resets at the beginning of each new month.\\nThis is thrown by our application and applies only to the Developer Plan Tier when there is no payment method on file.\\nPlanLimitWindowDeveloper (no payment on file)5,000 traces1 month\\nSelf-configured monthly usage limits\\u200b\\nThis 429 is the result of reaching your usage limit as configured by your organization admin and is evaluated in a fixed window starting at the beginning of each calendar month in UTC and resets at the beginning of each new month.\\nThis is thrown by our application and varies by organization based on their configured settings.\\nHandling 429s responses in your application\\u200b\\nSince some 429 responses are temporary and may succeed on a successive call, if you are directly calling the LangSmith API in your application we recommend implementing retry logic with exponential backoff and jitter.\\nFor convenience, LangChain applications built with the LangSmith SDK has this capability built-in.\\nnoteIt is important to note that if you are saturating the endpoints for extended periods of time, retries may not be effective as your application will eventually run large enough backlogs to exhaust all retries.If that is the case, we would like to discuss your needs more specifically. Please reach out to LangSmith Support with details about your applications throughput needs and sample code and we can work with you to better understand whether the best approach is fixing a bug, changes to your application code, or a different LangSmith plan.\\nUsage Limits\\u200b\\nLangSmith lets you configure usage limits on tracing. Note that these are usage limits, not spend limits, which\\nmean they let you limit the quantity of occurrences of some event rather than the total amount you will spend.\\nLangSmith lets you set two different monthly limits, mirroring our Billable Metrics discussed in the aforementioned data retention guide:\\n\\nAll traces limit\\nExtended data retention traces limit\\n\\nThese let you limit the number of total traces, and extended data retention traces respectively.\\nProperties of usage limiting\\u200b\\nUsage limiting is approximate, meaning that we do not guarantee the exactness of the limit. In rare cases, there\\nmay be a small period of time where additional traces are processed above the limit threshold before usage limiting\\nbegins to apply.\\nSide effects of extended data retention traces limit\\u200b\\nThe extended data retention traces limit has side effects. If the limit is already reached, any feature that could\\ncause an auto-upgrade of tracing tiers becomes inaccessible. This is because an auto-upgrade of a trace would cause\\nanother extended retention trace to be created, which in turn should not be allowed by the limit. Therefore, you can\\nno longer:\\n\\nmatch run rules\\nadd feedback to traces\\nadd runs to annotation queues\\n\\nEach of these features may cause an auto upgrade, so we shut them off when the limit is reached.\\nUpdating usage limits\\u200b\\nUsage limits can be updated from the Settings page under Usage and Billing. Limit values are cached, so it\\nmay take a minute or two before the new limits apply.\\nRelated content\\u200b\\n\\nTutorial on how to optimize spend\\nWas this page helpful?You can leave detailed feedback on GitHub.PreviousSCIM User Provisioning (Beta)NextSelf-hostingResource HierarchyOrganizationsWorkspacesResource tagsUser Management and RBACUsersAPI keysOrganization rolesWorkspace roles (RBAC)Best PracticesEnvironment SeparationUsage and BillingData RetentionRate LimitsUsage LimitsRelated contentCommunityLangChain ForumTwitterGitHubDocs CodeLangSmith SDKPythonJS/TSMoreHomepageBlogLangChain Python DocsLangChain JS/TS DocsCopyright © 2025 LangChain, Inc.\\n\\n\")]"
      ]
     },
     "execution_count": 6,
     "metadata": {},
     "output_type": "execute_result"
    }
   ],
   "source": [
    "docs =  loader.load()\n",
    "docs"
   ]
  },
  {
   "cell_type": "code",
   "execution_count": 7,
   "id": "54b2a339",
   "metadata": {},
   "outputs": [],
   "source": [
    "# Load Data --> Docs ---> Divide our text into chunks --> vector --> Vector Embedding -- > Vector Store \n",
    "from langchain_text_splitters import RecursiveCharacterTextSplitter\n",
    "\n",
    "text_splitter =  RecursiveCharacterTextSplitter(chunk_size = 1000, chunk_overlap= 200)\n",
    "documents = text_splitter.split_documents(docs)"
   ]
  },
  {
   "cell_type": "code",
   "execution_count": 8,
   "id": "c0e18111",
   "metadata": {},
   "outputs": [
    {
     "data": {
      "text/plain": [
       "[Document(metadata={'source': 'https://docs.smith.langchain.com/administration/concepts', 'title': 'Concepts | 🦜️🛠️ LangSmith', 'description': 'This conceptual guide covers topics related to managing users, organizations, and workspaces within LangSmith.', 'language': 'en'}, page_content='Concepts | 🦜️🛠️ LangSmith'),\n",
       " Document(metadata={'source': 'https://docs.smith.langchain.com/administration/concepts', 'title': 'Concepts | 🦜️🛠️ LangSmith', 'description': 'This conceptual guide covers topics related to managing users, organizations, and workspaces within LangSmith.', 'language': 'en'}, page_content='Skip to main contentOur Building Ambient Agents with LangGraph course is now available on LangChain Academy!API ReferenceRESTPythonJS/TSSearchRegionUSEUGo to AppGet StartedObservabilityEvaluationPrompt EngineeringDeployment (LangGraph Platform)AdministrationTutorialsOptimize tracing spend on LangSmithHow-to GuidesSetupConceptual GuideSelf-hostingPricingReferenceCloud architecture and scalabilityAuthz and AuthnAuthentication methodsdata_formatsEvaluationDataset transformationsRegions FAQsdk_referenceAdministrationConceptual GuideOn this pageConcepts\\nThis conceptual guide covers topics related to managing users, organizations, and workspaces within LangSmith.\\nResource Hierarchy\\u200b\\nOrganizations\\u200b\\nAn organization is a logical grouping of users within LangSmith with its own billing configuration. Typically, there is one organization per company. An organization can have multiple workspaces. For more details, see the setup guide.'),\n",
       " Document(metadata={'source': 'https://docs.smith.langchain.com/administration/concepts', 'title': 'Concepts | 🦜️🛠️ LangSmith', 'description': 'This conceptual guide covers topics related to managing users, organizations, and workspaces within LangSmith.', 'language': 'en'}, page_content=\"When you log in for the first time, a personal organization will be created for you automatically. If you'd like to collaborate with others, you can create a separate organization and invite your team members to join.\\nThere are a few important differences between your personal organization and shared organizations:\\nFeaturePersonalSharedMaximum workspaces1Variable, depending on plan (see pricing pageCollaborationCannot invite usersCan invite usersBilling: paid plansDeveloper plan onlyAll other plans available\\nWorkspaces\\u200b\\ninfoWorkspaces were formerly called Tenants. Some code and APIs may still reference the old name for a period of time during the transition.\\nA workspace is a logical grouping of users and resources within an organization. A workspace separates trust boundaries for resources and access control.\"),\n",
       " Document(metadata={'source': 'https://docs.smith.langchain.com/administration/concepts', 'title': 'Concepts | 🦜️🛠️ LangSmith', 'description': 'This conceptual guide covers topics related to managing users, organizations, and workspaces within LangSmith.', 'language': 'en'}, page_content='A workspace is a logical grouping of users and resources within an organization. A workspace separates trust boundaries for resources and access control.\\nUsers may have permissions in a workspace that grant them access to the resources in that workspace, including tracing projects, datasets, annotation queues, and prompts. For more details, see the setup guide.\\nIt is recommended to create a separate workspace for each team within your organization. To organize resources even further, you can use Resource Tags to group resources within a workspace.\\nThe following image shows a sample workspace settings page:'),\n",
       " Document(metadata={'source': 'https://docs.smith.langchain.com/administration/concepts', 'title': 'Concepts | 🦜️🛠️ LangSmith', 'description': 'This conceptual guide covers topics related to managing users, organizations, and workspaces within LangSmith.', 'language': 'en'}, page_content='The following diagram explains the relationship between organizations, workspaces, and the different resources scoped to and within a workspace:'),\n",
       " Document(metadata={'source': 'https://docs.smith.langchain.com/administration/concepts', 'title': 'Concepts | 🦜️🛠️ LangSmith', 'description': 'This conceptual guide covers topics related to managing users, organizations, and workspaces within LangSmith.', 'language': 'en'}, page_content='See the table below for details on which features are available in which scope (organization or workspace):\\nResource/SettingScopeTrace ProjectsWorkspaceAnnotation QueuesWorkspaceDeploymentsWorkspaceDatasets & ExperimentsWorkspacePromptsWorkspaceResource TagsWorkspaceAPI KeysWorkspaceSettings including Secrets, Feedback config, Models, Rules, and Shared URLsWorkspaceUser management: Invite User to WorkspaceWorkspaceRBAC: Assigning Workspace RolesWorkspaceData Retention, Usage LimitsWorkspace*Plans and Billing, Credits, InvoicesOrganizationUser management: Invite User to OrganizationOrganization**Adding WorkspacesOrganizationAssigning Organization RolesOrganizationRBAC: Creating/Editing/Deleting Custom RolesOrganization\\n*\\xa0Data retention settings and usage limits will be available soon for the organization level as well\\n**\\xa0Self-hosted installations may enable workspace-level invites of users to the organization via a feature flag.\\nSee the self-hosted user management docs for details.'),\n",
       " Document(metadata={'source': 'https://docs.smith.langchain.com/administration/concepts', 'title': 'Concepts | 🦜️🛠️ LangSmith', 'description': 'This conceptual guide covers topics related to managing users, organizations, and workspaces within LangSmith.', 'language': 'en'}, page_content='**\\xa0Self-hosted installations may enable workspace-level invites of users to the organization via a feature flag.\\nSee the self-hosted user management docs for details.\\nResource tags\\u200b\\nResource tags allow you to organize resources within a workspaces. Each tag is a key-value pair that can be assigned to a resource.\\nTags can be used to filter workspace-scoped resources in the UI and API: Projects, Datasets, Annotation Queues, Deployments, and Experiments.\\nEach new workspace comes with two default tag keys: Application and Environment; as the names suggest, these tags can be used to categorize resources based on the application and environment they belong to.\\nMore tags can be added as needed.\\nLangSmith resource tags are very similar to tags in cloud services like AWS.'),\n",
       " Document(metadata={'source': 'https://docs.smith.langchain.com/administration/concepts', 'title': 'Concepts | 🦜️🛠️ LangSmith', 'description': 'This conceptual guide covers topics related to managing users, organizations, and workspaces within LangSmith.', 'language': 'en'}, page_content='User Management and RBAC\\u200b\\nUsers\\u200b\\nA user is a person who has access to LangSmith. Users can be members of one or more organizations and workspaces within those organizations.\\nOrganization members are managed in organization settings:\\n\\nAnd workspace members are managed in workspace settings:'),\n",
       " Document(metadata={'source': 'https://docs.smith.langchain.com/administration/concepts', 'title': 'Concepts | 🦜️🛠️ LangSmith', 'description': 'This conceptual guide covers topics related to managing users, organizations, and workspaces within LangSmith.', 'language': 'en'}, page_content='API keys\\u200b\\nLegacy Keys deprecated as of October 22, 2024We ended support for legacy API keys prefixed with ls__ on October 22, 2024 in favor of personal access tokens (PATs) and service keys. We require using PATs and service keys for all new integrations. API keys prefixed with ls__ will no longer work as of October 22, 2024.\\nExpiration Dates\\u200b\\nWhen you create an API key, you have the option to set an expiration date. Adding an expiration date keys enhances security and minimize the risk of unauthorized access. For example, you may set expiration dates on keys for temporary tasks that require elevated access.\\nBy default, keys never expire. Once expired, an API key is no longer valid and cannot be reactivated or have its expiration modified.\\nPersonal Access Tokens (PATs)\\u200b\\nPersonal Access Tokens (PATs) are used to authenticate requests to the LangSmith API. They are created by users and scoped to a user. The PAT will have the same permissions as the user that created it.'),\n",
       " Document(metadata={'source': 'https://docs.smith.langchain.com/administration/concepts', 'title': 'Concepts | 🦜️🛠️ LangSmith', 'description': 'This conceptual guide covers topics related to managing users, organizations, and workspaces within LangSmith.', 'language': 'en'}, page_content='We recommend not using these to authenticate requests from your application, but rather using them for personal scripts or tools that interact with the LangSmith API. If the user associated with the PAT is removed from the organization, the PAT will no longer work.\\nPATs are prefixed with lsv2_pt_\\nService keys\\u200b\\nService keys are similar to PATs, but are used to authenticate requests to the LangSmith API on behalf of a service account. Only admins can create service keys. We recommend using these for applications / services that need to interact with the LangSmith API, such as LangGraph agents or other integrations.\\nService keys are scoped to a workspace and can be used to authenticate requests to the LangSmith API for that workspace.\\nService keys are prefixed with lsv2_sk_\\nnoteTo see how to create a service key or Personal Access Token, see the setup guide\\nOrganization roles\\u200b'),\n",
       " Document(metadata={'source': 'https://docs.smith.langchain.com/administration/concepts', 'title': 'Concepts | 🦜️🛠️ LangSmith', 'description': 'This conceptual guide covers topics related to managing users, organizations, and workspaces within LangSmith.', 'language': 'en'}, page_content='Service keys are prefixed with lsv2_sk_\\nnoteTo see how to create a service key or Personal Access Token, see the setup guide\\nOrganization roles\\u200b\\nOrganization roles are distinct from the Enterprise feature (RBAC) below and are used in the context of multiple workspaces. Your organization role determines your workspace membership characteristics and your organization-level permissions. See the organization setup guide for more information.\\nThe organization role selected also impacts workspace membership as described here:'),\n",
       " Document(metadata={'source': 'https://docs.smith.langchain.com/administration/concepts', 'title': 'Concepts | 🦜️🛠️ LangSmith', 'description': 'This conceptual guide covers topics related to managing users, organizations, and workspaces within LangSmith.', 'language': 'en'}, page_content='Organization Admin grants full access to manage all organization configuration, users, billing, and workspaces. An Organization Admin has Admin access to all workspaces in an organization\\nOrganization User may read organization information but cannot execute any write actions at the organization level. An Organization User can be added to a subset of workspaces and assigned workspace roles as usual (if RBAC is enabled), which specify permissions at the workspace level.'),\n",
       " Document(metadata={'source': 'https://docs.smith.langchain.com/administration/concepts', 'title': 'Concepts | 🦜️🛠️ LangSmith', 'description': 'This conceptual guide covers topics related to managing users, organizations, and workspaces within LangSmith.', 'language': 'en'}, page_content='infoThe Organization User role is only available in organizations on plans with multiple workspaces. In organizations limited to a single workspace, all users are Organization Admins.\\nCustom organization-scoped roles are not available yet.\\nSee the table below for all organization permissions:\\nOrganization UserOrganization AdminView organization configuration✅✅View organization roles✅✅View organization members✅✅View data retention settings✅✅View usage limits✅✅Admin access to all workspaces✅Manage billing settings✅Create workspaces✅Create, edit, and delete organization roles✅Invite new users to organization✅Delete user invites✅Remove users from an organization✅Update data retention settings*✅Update usage limits*✅\\nWorkspace roles (RBAC)\\u200b\\nnoteRBAC (Role-Based Access Control) is a feature that is only available to Enterprise customers. If you are interested in this feature, please contact our sales team at sales@langchain.dev\\nOther plans default to using the Admin role for all users.'),\n",
       " Document(metadata={'source': 'https://docs.smith.langchain.com/administration/concepts', 'title': 'Concepts | 🦜️🛠️ LangSmith', 'description': 'This conceptual guide covers topics related to managing users, organizations, and workspaces within LangSmith.', 'language': 'en'}, page_content='Other plans default to using the Admin role for all users.\\nRoles are used to define the set of permissions that a user has within a workspace. There are three built-in system roles that cannot be edited:'),\n",
       " Document(metadata={'source': 'https://docs.smith.langchain.com/administration/concepts', 'title': 'Concepts | 🦜️🛠️ LangSmith', 'description': 'This conceptual guide covers topics related to managing users, organizations, and workspaces within LangSmith.', 'language': 'en'}, page_content='Admin - has full access to all resources within the workspace\\nViewer - has read-only access to all resources within the workspace\\nEditor - has full permissions except for workspace management (adding/removing users, changing roles, configuring service keys)\\n\\nOrganization admins can also create/edit custom roles with specific permissions for different resources.\\nRoles can be managed in organization settings under the Roles tab:'),\n",
       " Document(metadata={'source': 'https://docs.smith.langchain.com/administration/concepts', 'title': 'Concepts | 🦜️🛠️ LangSmith', 'description': 'This conceptual guide covers topics related to managing users, organizations, and workspaces within LangSmith.', 'language': 'en'}, page_content='For more details on assigning and creating roles, see the access control setup guide.\\nBest Practices\\u200b\\nEnvironment Separation\\u200b\\nUse resource tags to organize resources by environment using the default tag key Environment and different values for the environment (e.g. dev, staging, prod). This tagging structure will allow you to organize your tracing projects today and easily enforce\\npermissions when we release attribute based access control (ABAC). ABAC on the resource tag will provide a fine-grained way to restrict access to production tracing projects, for example. We do not recommend that you use Workspaces for environment separation as you cannot share resources\\nacross Workspaces. If you would like to promote a prompt from staging to prod, we recommend you use commit tags instead. See docs for more information.\\nUsage and Billing\\u200b\\nData Retention\\u200b\\nIn May 2024, LangSmith introduced a maximum data retention period on traces of 400 days. In June 2024, LangSmith introduced'),\n",
       " Document(metadata={'source': 'https://docs.smith.langchain.com/administration/concepts', 'title': 'Concepts | 🦜️🛠️ LangSmith', 'description': 'This conceptual guide covers topics related to managing users, organizations, and workspaces within LangSmith.', 'language': 'en'}, page_content=\"Usage and Billing\\u200b\\nData Retention\\u200b\\nIn May 2024, LangSmith introduced a maximum data retention period on traces of 400 days. In June 2024, LangSmith introduced\\na new data retention based pricing model where customers can configure a shorter data retention period on traces in exchange\\nfor savings up to 10x. On this page, we'll go through how data retention works and is priced in LangSmith.\\nWhy retention matters\\u200b\"),\n",
       " Document(metadata={'source': 'https://docs.smith.langchain.com/administration/concepts', 'title': 'Concepts | 🦜️🛠️ LangSmith', 'description': 'This conceptual guide covers topics related to managing users, organizations, and workspaces within LangSmith.', 'language': 'en'}, page_content=\"Privacy: Many data privacy regulations, such as GDPR in Europe or CCPA in California, require organizations to delete personal data\\nonce it's no longer necessary for the purposes for which it was collected. Setting retention periods aids in compliance with\\nsuch regulations.\\nCost: LangSmith charges less for traces that have low data retention. See our tutorial on how to optimize spend\\nfor details.\"),\n",
       " Document(metadata={'source': 'https://docs.smith.langchain.com/administration/concepts', 'title': 'Concepts | 🦜️🛠️ LangSmith', 'description': 'This conceptual guide covers topics related to managing users, organizations, and workspaces within LangSmith.', 'language': 'en'}, page_content='How it works\\u200b\\nLangSmith now has two tiers of traces based on Data Retention with the following characteristics:\\nBaseExtendedPrice$.50 / 1k traces$5 / 1k tracesRetention Period14 days400 days\\nData deletion after retention ends\\nAfter the specified retention period, traces are no longer accessible via the runs table or API. All user data associated\\nwith the trace (e.g. inputs and outputs) is deleted from our internal systems within a day thereafter. Some metadata\\nassociated with each trace may be retained indefinitely for analytics and billing purposes.\\nData retention auto-upgrades\\ncautionAuto upgrades can have an impact on your bill. Please read this section carefully to fully understand your\\nestimated LangSmith tracing costs.\\nWhen you use certain features with base tier traces, their data retention will be automatically upgraded to\\nextended tier. This will increase both the retention period, and the cost of the trace.\\nThe complete list of scenarios in which a trace will upgrade when:'),\n",
       " Document(metadata={'source': 'https://docs.smith.langchain.com/administration/concepts', 'title': 'Concepts | 🦜️🛠️ LangSmith', 'description': 'This conceptual guide covers topics related to managing users, organizations, and workspaces within LangSmith.', 'language': 'en'}, page_content='Feedback is added to any run on the trace\\nAn Annotation Queue receives any run from the trace\\nA Run Rule matches any run within a trace\\n\\nWhy auto-upgrade traces?\\nWe have two reasons behind the auto-upgrade model for tracing:\\n\\nWe think that traces that match any of these conditions are fundamentally more interesting than other traces, and\\ntherefore it is good for users to be able to keep them around longer.\\nWe philosophically want to charge customers an order of magnitude lower for traces that may not be interacted with meaningfully.\\nWe think auto-upgrades align our pricing model with the value that LangSmith brings, where only traces with meaningful interaction\\nare charged at a higher rate.\\n\\nIf you have questions or concerns about our pricing model, please feel free to reach out to support@langchain.dev and let us know your thoughts!\\nHow does data retention affect downstream features?'),\n",
       " Document(metadata={'source': 'https://docs.smith.langchain.com/administration/concepts', 'title': 'Concepts | 🦜️🛠️ LangSmith', 'description': 'This conceptual guide covers topics related to managing users, organizations, and workspaces within LangSmith.', 'language': 'en'}, page_content=\"If you have questions or concerns about our pricing model, please feel free to reach out to support@langchain.dev and let us know your thoughts!\\nHow does data retention affect downstream features?\\n\\nAnnotation Queues, Run Rules, and Feedback: Traces that use these features will be auto-upgraded.\\nMonitoring: The monitoring tab will continue to work even after a base tier trace's data retention period ends. It is powered by\\ntrace metadata that exists for >30 days, meaning that your monitoring graphs will continue to stay accurate even on\\nbase tier traces.\\nDatasets: Datasets have an indefinite data retention period. Restated differently, if you add a trace's inputs and outputs to a dataset,\\nthey will never be deleted. We suggest that if you are using LangSmith for data collection, you take advantage of the datasets\\nfeature.\\n\\nBilling model\\u200b\\nBillable metrics\\nOn your LangSmith invoice, you will see two metrics that we charge for:\"),\n",
       " Document(metadata={'source': 'https://docs.smith.langchain.com/administration/concepts', 'title': 'Concepts | 🦜️🛠️ LangSmith', 'description': 'This conceptual guide covers topics related to managing users, organizations, and workspaces within LangSmith.', 'language': 'en'}, page_content='Billing model\\u200b\\nBillable metrics\\nOn your LangSmith invoice, you will see two metrics that we charge for:\\n\\nLangSmith Traces (Base Charge)\\nLangSmith Traces (Extended Data Retention Upgrades).'),\n",
       " Document(metadata={'source': 'https://docs.smith.langchain.com/administration/concepts', 'title': 'Concepts | 🦜️🛠️ LangSmith', 'description': 'This conceptual guide covers topics related to managing users, organizations, and workspaces within LangSmith.', 'language': 'en'}, page_content=\"The first metric includes all traces, regardless of tier. The second metric just counts the number of extended retention traces.\\nWhy measure all traces + upgrades instead of base and extended traces?\\nA natural question to ask when considering our pricing is why not just show the number of base tier and extended tier\\ntraces directly on the invoice?\\nWhile we understand this would be more straightforward, it doesn't fit trace upgrades properly. Consider a\\nbase tier trace that was recorded on June 30, and upgraded to extended tier on July 3. The base tier\\ntrace occurred in the June billing period, but the upgrade occurred in the July billing period. Therefore,\\nwe need to be able to measure these two events independently to properly bill our customers.\\nIf your trace was recorded as an extended retention trace, then the base and extended metrics will both be recorded\\nwith the same timestamp.\\nCost breakdown\"),\n",
       " Document(metadata={'source': 'https://docs.smith.langchain.com/administration/concepts', 'title': 'Concepts | 🦜️🛠️ LangSmith', 'description': 'This conceptual guide covers topics related to managing users, organizations, and workspaces within LangSmith.', 'language': 'en'}, page_content='If your trace was recorded as an extended retention trace, then the base and extended metrics will both be recorded\\nwith the same timestamp.\\nCost breakdown\\nThe Base Charge for a trace is .05¢ per trace. We priced the upgrade such that an extended retention trace\\ncosts 10x the price of a base tier trace (.50¢ per trace) including both metrics. Thus, each upgrade costs .45¢.\\nRate Limits\\u200b\\nLangSmith has rate limits which are designed to ensure the stability of the service for all users.\\nTo ensure access and stability, LangSmith will respond with HTTP Status Code 429 indicating that rate or usage limits have been exceeded under the following circumstances:\\nScenarios\\u200b\\nTemporary throughput limit over a 1 minute period at our application load balancer\\u200b'),\n",
       " Document(metadata={'source': 'https://docs.smith.langchain.com/administration/concepts', 'title': 'Concepts | 🦜️🛠️ LangSmith', 'description': 'This conceptual guide covers topics related to managing users, organizations, and workspaces within LangSmith.', 'language': 'en'}, page_content='Scenarios\\u200b\\nTemporary throughput limit over a 1 minute period at our application load balancer\\u200b\\nThis 429 is the the result of exceeding a fixed number of API calls over a 1 minute window on a per API key/access token basis. The start of the window will vary slightly — it is not guaranteed to start at the start of a clock minute — and may change depending on application deployment events.\\nAfter the max events are received we will respond with a 429 until 60 seconds from the start of the evaluation window has been reached and then the process repeats.\\nThis 429 is thrown by our application load balancer and is a mechanism in place for all LangSmith users independent of plan tier to ensure continuity of service for all users.\\nMethodEndpointLimitWindowDELETESessions301 minutePOST OR PATCHRuns50001 minutePOSTFeedback50001 minute**20001 minute'),\n",
       " Document(metadata={'source': 'https://docs.smith.langchain.com/administration/concepts', 'title': 'Concepts | 🦜️🛠️ LangSmith', 'description': 'This conceptual guide covers topics related to managing users, organizations, and workspaces within LangSmith.', 'language': 'en'}, page_content='MethodEndpointLimitWindowDELETESessions301 minutePOST OR PATCHRuns50001 minutePOSTFeedback50001 minute**20001 minute\\nnoteThe LangSmith SDK takes steps to minimize the likelihood of reaching these limits on run-related endpoints by batching up to 100 runs from a single session ID into a single API call.\\nPlan-level hourly trace event limit\\u200b\\nThis 429 is the result of reaching your maximum hourly events ingested and is evaluated in a fixed window starting at the beginning of each clock hour in UTC and resets at the top of each new hour.\\nAn event in this context is the creation or update of a run. So if run is created, then subsequently updated in the same hourly window, that will count as 2 events against this limit.\\nThis is thrown by our application and varies by plan tier, with organizations on our Startup/Plus and Enterprise plan tiers having higher hourly limits than our Free and Developer Plan Tiers which are designed for personal use.'),\n",
       " Document(metadata={'source': 'https://docs.smith.langchain.com/administration/concepts', 'title': 'Concepts | 🦜️🛠️ LangSmith', 'description': 'This conceptual guide covers topics related to managing users, organizations, and workspaces within LangSmith.', 'language': 'en'}, page_content='PlanLimitWindowDeveloper (no payment on file)50,000 events1 hourDeveloper (with payment on file)250,000 events1 hourStartup/Plus500,000 events1 hourEnterpriseCustomCustom\\nPlan-level hourly trace data ingest limit\\u200b\\nThis 429 is the result of reaching the maximum amount of data ingested across your trace inputs, outputs, and metadata and is evaluated in a fixed window starting at the beginning of each clock hour in UTC and resets at the top of each new hour.\\nTypically, inputs, outputs, and metadata are send on both run creation and update events. So if a run is created and is 2.0MB in size at creation, and 3.0MB in size when updated in the same hourly window, that will count as 5.0MB of storage against this limit.\\nThis is thrown by our application and varies by plan tier, with organizations on our Startup/Plus and Enterprise plan tiers having higher hourly limits than our Free and Developer Plan Tiers which are designed for personal use.'),\n",
       " Document(metadata={'source': 'https://docs.smith.langchain.com/administration/concepts', 'title': 'Concepts | 🦜️🛠️ LangSmith', 'description': 'This conceptual guide covers topics related to managing users, organizations, and workspaces within LangSmith.', 'language': 'en'}, page_content='PlanLimitWindowDeveloper (no payment on file)500MB1 hourDeveloper (with payment on file)2.5GB1 hourStartup/Plus5.0GB1 hourEnterpriseCustomCustom\\nPlan-level monthly unique traces limit\\u200b\\nThis 429 is the result of reaching your maximum monthly traces ingested and is evaluated in a fixed window starting at the beginning of each calendar month in UTC and resets at the beginning of each new month.\\nThis is thrown by our application and applies only to the Developer Plan Tier when there is no payment method on file.\\nPlanLimitWindowDeveloper (no payment on file)5,000 traces1 month\\nSelf-configured monthly usage limits\\u200b\\nThis 429 is the result of reaching your usage limit as configured by your organization admin and is evaluated in a fixed window starting at the beginning of each calendar month in UTC and resets at the beginning of each new month.\\nThis is thrown by our application and varies by organization based on their configured settings.\\nHandling 429s responses in your application\\u200b'),\n",
       " Document(metadata={'source': 'https://docs.smith.langchain.com/administration/concepts', 'title': 'Concepts | 🦜️🛠️ LangSmith', 'description': 'This conceptual guide covers topics related to managing users, organizations, and workspaces within LangSmith.', 'language': 'en'}, page_content='This is thrown by our application and varies by organization based on their configured settings.\\nHandling 429s responses in your application\\u200b\\nSince some 429 responses are temporary and may succeed on a successive call, if you are directly calling the LangSmith API in your application we recommend implementing retry logic with exponential backoff and jitter.\\nFor convenience, LangChain applications built with the LangSmith SDK has this capability built-in.'),\n",
       " Document(metadata={'source': 'https://docs.smith.langchain.com/administration/concepts', 'title': 'Concepts | 🦜️🛠️ LangSmith', 'description': 'This conceptual guide covers topics related to managing users, organizations, and workspaces within LangSmith.', 'language': 'en'}, page_content='For convenience, LangChain applications built with the LangSmith SDK has this capability built-in.\\nnoteIt is important to note that if you are saturating the endpoints for extended periods of time, retries may not be effective as your application will eventually run large enough backlogs to exhaust all retries.If that is the case, we would like to discuss your needs more specifically. Please reach out to LangSmith Support with details about your applications throughput needs and sample code and we can work with you to better understand whether the best approach is fixing a bug, changes to your application code, or a different LangSmith plan.\\nUsage Limits\\u200b\\nLangSmith lets you configure usage limits on tracing. Note that these are usage limits, not spend limits, which\\nmean they let you limit the quantity of occurrences of some event rather than the total amount you will spend.'),\n",
       " Document(metadata={'source': 'https://docs.smith.langchain.com/administration/concepts', 'title': 'Concepts | 🦜️🛠️ LangSmith', 'description': 'This conceptual guide covers topics related to managing users, organizations, and workspaces within LangSmith.', 'language': 'en'}, page_content='mean they let you limit the quantity of occurrences of some event rather than the total amount you will spend.\\nLangSmith lets you set two different monthly limits, mirroring our Billable Metrics discussed in the aforementioned data retention guide:'),\n",
       " Document(metadata={'source': 'https://docs.smith.langchain.com/administration/concepts', 'title': 'Concepts | 🦜️🛠️ LangSmith', 'description': 'This conceptual guide covers topics related to managing users, organizations, and workspaces within LangSmith.', 'language': 'en'}, page_content='All traces limit\\nExtended data retention traces limit\\n\\nThese let you limit the number of total traces, and extended data retention traces respectively.\\nProperties of usage limiting\\u200b\\nUsage limiting is approximate, meaning that we do not guarantee the exactness of the limit. In rare cases, there\\nmay be a small period of time where additional traces are processed above the limit threshold before usage limiting\\nbegins to apply.\\nSide effects of extended data retention traces limit\\u200b\\nThe extended data retention traces limit has side effects. If the limit is already reached, any feature that could\\ncause an auto-upgrade of tracing tiers becomes inaccessible. This is because an auto-upgrade of a trace would cause\\nanother extended retention trace to be created, which in turn should not be allowed by the limit. Therefore, you can\\nno longer:\\n\\nmatch run rules\\nadd feedback to traces\\nadd runs to annotation queues'),\n",
       " Document(metadata={'source': 'https://docs.smith.langchain.com/administration/concepts', 'title': 'Concepts | 🦜️🛠️ LangSmith', 'description': 'This conceptual guide covers topics related to managing users, organizations, and workspaces within LangSmith.', 'language': 'en'}, page_content='match run rules\\nadd feedback to traces\\nadd runs to annotation queues\\n\\nEach of these features may cause an auto upgrade, so we shut them off when the limit is reached.\\nUpdating usage limits\\u200b\\nUsage limits can be updated from the Settings page under Usage and Billing. Limit values are cached, so it\\nmay take a minute or two before the new limits apply.\\nRelated content\\u200b\\n\\nTutorial on how to optimize spend\\nWas this page helpful?You can leave detailed feedback on GitHub.PreviousSCIM User Provisioning (Beta)NextSelf-hostingResource HierarchyOrganizationsWorkspacesResource tagsUser Management and RBACUsersAPI keysOrganization rolesWorkspace roles (RBAC)Best PracticesEnvironment SeparationUsage and BillingData RetentionRate LimitsUsage LimitsRelated contentCommunityLangChain ForumTwitterGitHubDocs CodeLangSmith SDKPythonJS/TSMoreHomepageBlogLangChain Python DocsLangChain JS/TS DocsCopyright © 2025 LangChain, Inc.')]"
      ]
     },
     "execution_count": 8,
     "metadata": {},
     "output_type": "execute_result"
    }
   ],
   "source": [
    "documents"
   ]
  },
  {
   "cell_type": "code",
   "execution_count": 22,
   "id": "05e07be0",
   "metadata": {},
   "outputs": [
    {
     "name": "stderr",
     "output_type": "stream",
     "text": [
      "C:\\Users\\Nirav\\AppData\\Local\\Temp\\ipykernel_21376\\581666082.py:8: LangChainDeprecationWarning: The class `OllamaEmbeddings` was deprecated in LangChain 0.3.1 and will be removed in 1.0.0. An updated version of the class exists in the :class:`~langchain-ollama package and should be used instead. To use it run `pip install -U :class:`~langchain-ollama` and import as `from :class:`~langchain_ollama import OllamaEmbeddings``.\n",
      "  embeddings = OllamaEmbeddings(\n"
     ]
    }
   ],
   "source": [
    "# from langchain_google_genai import GoogleGenerativeAIEmbeddings\n",
    "\n",
    "# embeddings = GoogleGenerativeAIEmbeddings( # This will give us 768 dim so we can go for ollama \n",
    "#     model=\"models/embedding-001\"   \n",
    "# )\n",
    "from langchain_community.embeddings import OllamaEmbeddings\n",
    "\n",
    "embeddings = OllamaEmbeddings(\n",
    "    model = \"gemma:2b\"\n",
    ")\n"
   ]
  },
  {
   "cell_type": "code",
   "execution_count": 23,
   "id": "8ac0a672",
   "metadata": {},
   "outputs": [],
   "source": [
    "from langchain_community.vectorstores import FAISS\n",
    "vectorstoredb = FAISS.from_documents(documents,embeddings)"
   ]
  },
  {
   "cell_type": "code",
   "execution_count": 24,
   "id": "43d58247",
   "metadata": {},
   "outputs": [
    {
     "data": {
      "text/plain": [
       "33"
      ]
     },
     "execution_count": 24,
     "metadata": {},
     "output_type": "execute_result"
    }
   ],
   "source": [
    "len(vectorstoredb.index_to_docstore_id)\n"
   ]
  },
  {
   "cell_type": "code",
   "execution_count": 25,
   "id": "a48b3475",
   "metadata": {},
   "outputs": [
    {
     "name": "stdout",
     "output_type": "stream",
     "text": [
      "2048\n"
     ]
    }
   ],
   "source": [
    "print(len(embeddings.embed_query(\"test\")))\n"
   ]
  },
  {
   "cell_type": "code",
   "execution_count": 26,
   "id": "f39b91e3",
   "metadata": {},
   "outputs": [
    {
     "name": "stdout",
     "output_type": "stream",
     "text": [
      "33\n"
     ]
    }
   ],
   "source": [
    "print(len(vectorstoredb.index_to_docstore_id))\n"
   ]
  },
  {
   "cell_type": "code",
   "execution_count": 27,
   "id": "d7c00e73",
   "metadata": {},
   "outputs": [
    {
     "name": "stdout",
     "output_type": "stream",
     "text": [
      "[[ 0.7070765  -0.04676775 -1.1672823  ...  0.32437387 -1.233724\n",
      "   1.3048584 ]\n",
      " [ 0.40202475 -0.561891   -0.9718819  ... -3.0186098  -1.5597785\n",
      "  -0.12363089]\n",
      " [-0.6352203  -1.4135911  -0.785432   ... -4.0504475  -0.19131994\n",
      "   0.63039935]\n",
      " ...\n",
      " [-0.7365145   0.09503919 -0.8498155  ... -0.17175633  1.1147379\n",
      "  -0.3621799 ]\n",
      " [-0.7230354  -1.0952692   0.7877405  ... -2.1404414  -0.60940826\n",
      "   0.03427316]\n",
      " [ 0.33645463 -0.35699156  0.3056506  ... -1.3394234  -1.5823153\n",
      "   0.48569438]]\n"
     ]
    }
   ],
   "source": [
    "vectors = vectorstoredb.index.reconstruct_n(0, vectorstoredb.index.ntotal)\n",
    "print(vectors)"
   ]
  },
  {
   "cell_type": "markdown",
   "id": "56a0fae0",
   "metadata": {},
   "source": [
    "#### **To see the vector of the given content**"
   ]
  },
  {
   "cell_type": "code",
   "execution_count": 28,
   "id": "299708cb",
   "metadata": {},
   "outputs": [
    {
     "name": "stdout",
     "output_type": "stream",
     "text": [
      "Doc: Concepts | 🦜️🛠️ LangSmith\n",
      "Vector: [ 0.7070765  -0.04676775 -1.1672823   1.6084164   0.23011196]...\n",
      "Doc: Skip to main contentOur Building Ambient Agents with LangGraph course is now available on LangChain Academy!API ReferenceRESTPythonJS/TSSearchRegionUSEUGo to AppGet StartedObservabilityEvaluationPrompt EngineeringDeployment (LangGraph Platform)AdministrationTutorialsOptimize tracing spend on LangSmithHow-to GuidesSetupConceptual GuideSelf-hostingPricingReferenceCloud architecture and scalabilityAuthz and AuthnAuthentication methodsdata_formatsEvaluationDataset transformationsRegions FAQsdk_referenceAdministrationConceptual GuideOn this pageConcepts\n",
      "This conceptual guide covers topics related to managing users, organizations, and workspaces within LangSmith.\n",
      "Resource Hierarchy​\n",
      "Organizations​\n",
      "An organization is a logical grouping of users within LangSmith with its own billing configuration. Typically, there is one organization per company. An organization can have multiple workspaces. For more details, see the setup guide.\n",
      "Vector: [ 0.40202475 -0.561891   -0.9718819  -0.2577093   1.2044885 ]...\n",
      "Doc: When you log in for the first time, a personal organization will be created for you automatically. If you'd like to collaborate with others, you can create a separate organization and invite your team members to join.\n",
      "There are a few important differences between your personal organization and shared organizations:\n",
      "FeaturePersonalSharedMaximum workspaces1Variable, depending on plan (see pricing pageCollaborationCannot invite usersCan invite usersBilling: paid plansDeveloper plan onlyAll other plans available\n",
      "Workspaces​\n",
      "infoWorkspaces were formerly called Tenants. Some code and APIs may still reference the old name for a period of time during the transition.\n",
      "A workspace is a logical grouping of users and resources within an organization. A workspace separates trust boundaries for resources and access control.\n",
      "Vector: [-0.6352203  -1.4135911  -0.785432   -0.63539016  0.41846433]...\n",
      "Doc: A workspace is a logical grouping of users and resources within an organization. A workspace separates trust boundaries for resources and access control.\n",
      "Users may have permissions in a workspace that grant them access to the resources in that workspace, including tracing projects, datasets, annotation queues, and prompts. For more details, see the setup guide.\n",
      "It is recommended to create a separate workspace for each team within your organization. To organize resources even further, you can use Resource Tags to group resources within a workspace.\n",
      "The following image shows a sample workspace settings page:\n",
      "Vector: [-0.3313922 -1.8151085 -2.2846317  0.803386   1.2600992]...\n",
      "Doc: The following diagram explains the relationship between organizations, workspaces, and the different resources scoped to and within a workspace:\n",
      "Vector: [-0.7042086 -0.3131542 -0.3211998  1.4724646 -1.2666785]...\n",
      "Doc: See the table below for details on which features are available in which scope (organization or workspace):\n",
      "Resource/SettingScopeTrace ProjectsWorkspaceAnnotation QueuesWorkspaceDeploymentsWorkspaceDatasets & ExperimentsWorkspacePromptsWorkspaceResource TagsWorkspaceAPI KeysWorkspaceSettings including Secrets, Feedback config, Models, Rules, and Shared URLsWorkspaceUser management: Invite User to WorkspaceWorkspaceRBAC: Assigning Workspace RolesWorkspaceData Retention, Usage LimitsWorkspace*Plans and Billing, Credits, InvoicesOrganizationUser management: Invite User to OrganizationOrganization**Adding WorkspacesOrganizationAssigning Organization RolesOrganizationRBAC: Creating/Editing/Deleting Custom RolesOrganization\n",
      "* Data retention settings and usage limits will be available soon for the organization level as well\n",
      "** Self-hosted installations may enable workspace-level invites of users to the organization via a feature flag.\n",
      "See the self-hosted user management docs for details.\n",
      "Vector: [-0.06196854 -1.1672273  -0.2618599   0.00757905  1.8091428 ]...\n",
      "Doc: ** Self-hosted installations may enable workspace-level invites of users to the organization via a feature flag.\n",
      "See the self-hosted user management docs for details.\n",
      "Resource tags​\n",
      "Resource tags allow you to organize resources within a workspaces. Each tag is a key-value pair that can be assigned to a resource.\n",
      "Tags can be used to filter workspace-scoped resources in the UI and API: Projects, Datasets, Annotation Queues, Deployments, and Experiments.\n",
      "Each new workspace comes with two default tag keys: Application and Environment; as the names suggest, these tags can be used to categorize resources based on the application and environment they belong to.\n",
      "More tags can be added as needed.\n",
      "LangSmith resource tags are very similar to tags in cloud services like AWS.\n",
      "Vector: [-0.21557695 -0.67339945 -2.2450862   0.46583498  0.90267265]...\n",
      "Doc: User Management and RBAC​\n",
      "Users​\n",
      "A user is a person who has access to LangSmith. Users can be members of one or more organizations and workspaces within those organizations.\n",
      "Organization members are managed in organization settings:\n",
      "\n",
      "And workspace members are managed in workspace settings:\n",
      "Vector: [ 0.11904583 -0.83524364 -2.2148552   0.40073127  1.2478206 ]...\n",
      "Doc: API keys​\n",
      "Legacy Keys deprecated as of October 22, 2024We ended support for legacy API keys prefixed with ls__ on October 22, 2024 in favor of personal access tokens (PATs) and service keys. We require using PATs and service keys for all new integrations. API keys prefixed with ls__ will no longer work as of October 22, 2024.\n",
      "Expiration Dates​\n",
      "When you create an API key, you have the option to set an expiration date. Adding an expiration date keys enhances security and minimize the risk of unauthorized access. For example, you may set expiration dates on keys for temporary tasks that require elevated access.\n",
      "By default, keys never expire. Once expired, an API key is no longer valid and cannot be reactivated or have its expiration modified.\n",
      "Personal Access Tokens (PATs)​\n",
      "Personal Access Tokens (PATs) are used to authenticate requests to the LangSmith API. They are created by users and scoped to a user. The PAT will have the same permissions as the user that created it.\n",
      "Vector: [-0.62352645 -1.5019138  -1.3417932   1.2036842   0.7066582 ]...\n",
      "Doc: We recommend not using these to authenticate requests from your application, but rather using them for personal scripts or tools that interact with the LangSmith API. If the user associated with the PAT is removed from the organization, the PAT will no longer work.\n",
      "PATs are prefixed with lsv2_pt_\n",
      "Service keys​\n",
      "Service keys are similar to PATs, but are used to authenticate requests to the LangSmith API on behalf of a service account. Only admins can create service keys. We recommend using these for applications / services that need to interact with the LangSmith API, such as LangGraph agents or other integrations.\n",
      "Service keys are scoped to a workspace and can be used to authenticate requests to the LangSmith API for that workspace.\n",
      "Service keys are prefixed with lsv2_sk_\n",
      "noteTo see how to create a service key or Personal Access Token, see the setup guide\n",
      "Organization roles​\n",
      "Vector: [ 0.40823492 -1.5657964  -1.8921015  -0.8201745   3.1947143 ]...\n",
      "Doc: Service keys are prefixed with lsv2_sk_\n",
      "noteTo see how to create a service key or Personal Access Token, see the setup guide\n",
      "Organization roles​\n",
      "Organization roles are distinct from the Enterprise feature (RBAC) below and are used in the context of multiple workspaces. Your organization role determines your workspace membership characteristics and your organization-level permissions. See the organization setup guide for more information.\n",
      "The organization role selected also impacts workspace membership as described here:\n",
      "Vector: [-1.0087428  -0.88221973 -1.1815404  -0.32761422  2.3625965 ]...\n",
      "Doc: Organization Admin grants full access to manage all organization configuration, users, billing, and workspaces. An Organization Admin has Admin access to all workspaces in an organization\n",
      "Organization User may read organization information but cannot execute any write actions at the organization level. An Organization User can be added to a subset of workspaces and assigned workspace roles as usual (if RBAC is enabled), which specify permissions at the workspace level.\n",
      "Vector: [-0.2368868 -1.4123935 -1.2637097  0.5662634  1.7007025]...\n",
      "Doc: infoThe Organization User role is only available in organizations on plans with multiple workspaces. In organizations limited to a single workspace, all users are Organization Admins.\n",
      "Custom organization-scoped roles are not available yet.\n",
      "See the table below for all organization permissions:\n",
      "Organization UserOrganization AdminView organization configuration✅✅View organization roles✅✅View organization members✅✅View data retention settings✅✅View usage limits✅✅Admin access to all workspaces✅Manage billing settings✅Create workspaces✅Create, edit, and delete organization roles✅Invite new users to organization✅Delete user invites✅Remove users from an organization✅Update data retention settings*✅Update usage limits*✅\n",
      "Workspace roles (RBAC)​\n",
      "noteRBAC (Role-Based Access Control) is a feature that is only available to Enterprise customers. If you are interested in this feature, please contact our sales team at sales@langchain.dev\n",
      "Other plans default to using the Admin role for all users.\n",
      "Vector: [-0.02574171 -0.31860125 -1.4293383  -0.0951336   2.500026  ]...\n",
      "Doc: Other plans default to using the Admin role for all users.\n",
      "Roles are used to define the set of permissions that a user has within a workspace. There are three built-in system roles that cannot be edited:\n",
      "Vector: [ 0.6296055   0.47421667 -0.50572336  2.6217127   2.747832  ]...\n",
      "Doc: Admin - has full access to all resources within the workspace\n",
      "Viewer - has read-only access to all resources within the workspace\n",
      "Editor - has full permissions except for workspace management (adding/removing users, changing roles, configuring service keys)\n",
      "\n",
      "Organization admins can also create/edit custom roles with specific permissions for different resources.\n",
      "Roles can be managed in organization settings under the Roles tab:\n",
      "Vector: [ 0.11110789 -1.2744068  -0.7626849   0.32059863  1.1419607 ]...\n",
      "Doc: For more details on assigning and creating roles, see the access control setup guide.\n",
      "Best Practices​\n",
      "Environment Separation​\n",
      "Use resource tags to organize resources by environment using the default tag key Environment and different values for the environment (e.g. dev, staging, prod). This tagging structure will allow you to organize your tracing projects today and easily enforce\n",
      "permissions when we release attribute based access control (ABAC). ABAC on the resource tag will provide a fine-grained way to restrict access to production tracing projects, for example. We do not recommend that you use Workspaces for environment separation as you cannot share resources\n",
      "across Workspaces. If you would like to promote a prompt from staging to prod, we recommend you use commit tags instead. See docs for more information.\n",
      "Usage and Billing​\n",
      "Data Retention​\n",
      "In May 2024, LangSmith introduced a maximum data retention period on traces of 400 days. In June 2024, LangSmith introduced\n",
      "Vector: [ 0.27302784 -1.4177967  -1.5537453   0.36259937  0.28823337]...\n",
      "Doc: Usage and Billing​\n",
      "Data Retention​\n",
      "In May 2024, LangSmith introduced a maximum data retention period on traces of 400 days. In June 2024, LangSmith introduced\n",
      "a new data retention based pricing model where customers can configure a shorter data retention period on traces in exchange\n",
      "for savings up to 10x. On this page, we'll go through how data retention works and is priced in LangSmith.\n",
      "Why retention matters​\n",
      "Vector: [ 0.6290115  -0.9384203  -1.765314    0.7947544  -0.07456245]...\n",
      "Doc: Privacy: Many data privacy regulations, such as GDPR in Europe or CCPA in California, require organizations to delete personal data\n",
      "once it's no longer necessary for the purposes for which it was collected. Setting retention periods aids in compliance with\n",
      "such regulations.\n",
      "Cost: LangSmith charges less for traces that have low data retention. See our tutorial on how to optimize spend\n",
      "for details.\n",
      "Vector: [ 0.2585147  -0.1218626  -0.85939157  0.43234193 -0.8458788 ]...\n",
      "Doc: How it works​\n",
      "LangSmith now has two tiers of traces based on Data Retention with the following characteristics:\n",
      "BaseExtendedPrice$.50 / 1k traces$5 / 1k tracesRetention Period14 days400 days\n",
      "Data deletion after retention ends\n",
      "After the specified retention period, traces are no longer accessible via the runs table or API. All user data associated\n",
      "with the trace (e.g. inputs and outputs) is deleted from our internal systems within a day thereafter. Some metadata\n",
      "associated with each trace may be retained indefinitely for analytics and billing purposes.\n",
      "Data retention auto-upgrades\n",
      "cautionAuto upgrades can have an impact on your bill. Please read this section carefully to fully understand your\n",
      "estimated LangSmith tracing costs.\n",
      "When you use certain features with base tier traces, their data retention will be automatically upgraded to\n",
      "extended tier. This will increase both the retention period, and the cost of the trace.\n",
      "The complete list of scenarios in which a trace will upgrade when:\n",
      "Vector: [ 0.45118114 -0.8732417  -1.619469    0.8327428   1.8848937 ]...\n",
      "Doc: Feedback is added to any run on the trace\n",
      "An Annotation Queue receives any run from the trace\n",
      "A Run Rule matches any run within a trace\n",
      "\n",
      "Why auto-upgrade traces?\n",
      "We have two reasons behind the auto-upgrade model for tracing:\n",
      "\n",
      "We think that traces that match any of these conditions are fundamentally more interesting than other traces, and\n",
      "therefore it is good for users to be able to keep them around longer.\n",
      "We philosophically want to charge customers an order of magnitude lower for traces that may not be interacted with meaningfully.\n",
      "We think auto-upgrades align our pricing model with the value that LangSmith brings, where only traces with meaningful interaction\n",
      "are charged at a higher rate.\n",
      "\n",
      "If you have questions or concerns about our pricing model, please feel free to reach out to support@langchain.dev and let us know your thoughts!\n",
      "How does data retention affect downstream features?\n",
      "Vector: [ 0.6806163  -1.2399045  -1.461833   -0.16424422  1.2311754 ]...\n",
      "Doc: If you have questions or concerns about our pricing model, please feel free to reach out to support@langchain.dev and let us know your thoughts!\n",
      "How does data retention affect downstream features?\n",
      "\n",
      "Annotation Queues, Run Rules, and Feedback: Traces that use these features will be auto-upgraded.\n",
      "Monitoring: The monitoring tab will continue to work even after a base tier trace's data retention period ends. It is powered by\n",
      "trace metadata that exists for >30 days, meaning that your monitoring graphs will continue to stay accurate even on\n",
      "base tier traces.\n",
      "Datasets: Datasets have an indefinite data retention period. Restated differently, if you add a trace's inputs and outputs to a dataset,\n",
      "they will never be deleted. We suggest that if you are using LangSmith for data collection, you take advantage of the datasets\n",
      "feature.\n",
      "\n",
      "Billing model​\n",
      "Billable metrics\n",
      "On your LangSmith invoice, you will see two metrics that we charge for:\n",
      "Vector: [ 0.7906992   1.6311604  -0.1813728   0.8895314   0.91060454]...\n",
      "Doc: Billing model​\n",
      "Billable metrics\n",
      "On your LangSmith invoice, you will see two metrics that we charge for:\n",
      "\n",
      "LangSmith Traces (Base Charge)\n",
      "LangSmith Traces (Extended Data Retention Upgrades).\n",
      "Vector: [ 0.78899205  0.7965326  -0.81129116  0.89298075  1.1859199 ]...\n",
      "Doc: The first metric includes all traces, regardless of tier. The second metric just counts the number of extended retention traces.\n",
      "Why measure all traces + upgrades instead of base and extended traces?\n",
      "A natural question to ask when considering our pricing is why not just show the number of base tier and extended tier\n",
      "traces directly on the invoice?\n",
      "While we understand this would be more straightforward, it doesn't fit trace upgrades properly. Consider a\n",
      "base tier trace that was recorded on June 30, and upgraded to extended tier on July 3. The base tier\n",
      "trace occurred in the June billing period, but the upgrade occurred in the July billing period. Therefore,\n",
      "we need to be able to measure these two events independently to properly bill our customers.\n",
      "If your trace was recorded as an extended retention trace, then the base and extended metrics will both be recorded\n",
      "with the same timestamp.\n",
      "Cost breakdown\n",
      "Vector: [-0.51535076 -0.82260954 -0.19438384  1.002841    2.0366194 ]...\n",
      "Doc: If your trace was recorded as an extended retention trace, then the base and extended metrics will both be recorded\n",
      "with the same timestamp.\n",
      "Cost breakdown\n",
      "The Base Charge for a trace is .05¢ per trace. We priced the upgrade such that an extended retention trace\n",
      "costs 10x the price of a base tier trace (.50¢ per trace) including both metrics. Thus, each upgrade costs .45¢.\n",
      "Rate Limits​\n",
      "LangSmith has rate limits which are designed to ensure the stability of the service for all users.\n",
      "To ensure access and stability, LangSmith will respond with HTTP Status Code 429 indicating that rate or usage limits have been exceeded under the following circumstances:\n",
      "Scenarios​\n",
      "Temporary throughput limit over a 1 minute period at our application load balancer​\n",
      "Vector: [ 0.53153884  0.09991569 -0.28952995 -1.0046219   1.3758502 ]...\n",
      "Doc: Scenarios​\n",
      "Temporary throughput limit over a 1 minute period at our application load balancer​\n",
      "This 429 is the the result of exceeding a fixed number of API calls over a 1 minute window on a per API key/access token basis. The start of the window will vary slightly — it is not guaranteed to start at the start of a clock minute — and may change depending on application deployment events.\n",
      "After the max events are received we will respond with a 429 until 60 seconds from the start of the evaluation window has been reached and then the process repeats.\n",
      "This 429 is thrown by our application load balancer and is a mechanism in place for all LangSmith users independent of plan tier to ensure continuity of service for all users.\n",
      "MethodEndpointLimitWindowDELETESessions301 minutePOST OR PATCHRuns50001 minutePOSTFeedback50001 minute**20001 minute\n",
      "Vector: [ 0.46686807 -1.0433189   0.29134047  0.32553366 -0.02040758]...\n",
      "Doc: MethodEndpointLimitWindowDELETESessions301 minutePOST OR PATCHRuns50001 minutePOSTFeedback50001 minute**20001 minute\n",
      "noteThe LangSmith SDK takes steps to minimize the likelihood of reaching these limits on run-related endpoints by batching up to 100 runs from a single session ID into a single API call.\n",
      "Plan-level hourly trace event limit​\n",
      "This 429 is the result of reaching your maximum hourly events ingested and is evaluated in a fixed window starting at the beginning of each clock hour in UTC and resets at the top of each new hour.\n",
      "An event in this context is the creation or update of a run. So if run is created, then subsequently updated in the same hourly window, that will count as 2 events against this limit.\n",
      "This is thrown by our application and varies by plan tier, with organizations on our Startup/Plus and Enterprise plan tiers having higher hourly limits than our Free and Developer Plan Tiers which are designed for personal use.\n",
      "Vector: [-0.19536294 -0.7883642  -1.629828    0.66945606  0.9975604 ]...\n",
      "Doc: PlanLimitWindowDeveloper (no payment on file)50,000 events1 hourDeveloper (with payment on file)250,000 events1 hourStartup/Plus500,000 events1 hourEnterpriseCustomCustom\n",
      "Plan-level hourly trace data ingest limit​\n",
      "This 429 is the result of reaching the maximum amount of data ingested across your trace inputs, outputs, and metadata and is evaluated in a fixed window starting at the beginning of each clock hour in UTC and resets at the top of each new hour.\n",
      "Typically, inputs, outputs, and metadata are send on both run creation and update events. So if a run is created and is 2.0MB in size at creation, and 3.0MB in size when updated in the same hourly window, that will count as 5.0MB of storage against this limit.\n",
      "This is thrown by our application and varies by plan tier, with organizations on our Startup/Plus and Enterprise plan tiers having higher hourly limits than our Free and Developer Plan Tiers which are designed for personal use.\n",
      "Vector: [ 0.00567225 -0.6819518  -1.4781262   0.5988551   0.9025974 ]...\n",
      "Doc: PlanLimitWindowDeveloper (no payment on file)500MB1 hourDeveloper (with payment on file)2.5GB1 hourStartup/Plus5.0GB1 hourEnterpriseCustomCustom\n",
      "Plan-level monthly unique traces limit​\n",
      "This 429 is the result of reaching your maximum monthly traces ingested and is evaluated in a fixed window starting at the beginning of each calendar month in UTC and resets at the beginning of each new month.\n",
      "This is thrown by our application and applies only to the Developer Plan Tier when there is no payment method on file.\n",
      "PlanLimitWindowDeveloper (no payment on file)5,000 traces1 month\n",
      "Self-configured monthly usage limits​\n",
      "This 429 is the result of reaching your usage limit as configured by your organization admin and is evaluated in a fixed window starting at the beginning of each calendar month in UTC and resets at the beginning of each new month.\n",
      "This is thrown by our application and varies by organization based on their configured settings.\n",
      "Handling 429s responses in your application​\n",
      "Vector: [ 0.68449885 -2.465629   -0.64570314  0.603409    1.7696797 ]...\n",
      "Doc: This is thrown by our application and varies by organization based on their configured settings.\n",
      "Handling 429s responses in your application​\n",
      "Since some 429 responses are temporary and may succeed on a successive call, if you are directly calling the LangSmith API in your application we recommend implementing retry logic with exponential backoff and jitter.\n",
      "For convenience, LangChain applications built with the LangSmith SDK has this capability built-in.\n",
      "Vector: [-0.08313168  0.19085848 -1.5426476   0.5956687   1.5607662 ]...\n",
      "Doc: For convenience, LangChain applications built with the LangSmith SDK has this capability built-in.\n",
      "noteIt is important to note that if you are saturating the endpoints for extended periods of time, retries may not be effective as your application will eventually run large enough backlogs to exhaust all retries.If that is the case, we would like to discuss your needs more specifically. Please reach out to LangSmith Support with details about your applications throughput needs and sample code and we can work with you to better understand whether the best approach is fixing a bug, changes to your application code, or a different LangSmith plan.\n",
      "Usage Limits​\n",
      "LangSmith lets you configure usage limits on tracing. Note that these are usage limits, not spend limits, which\n",
      "mean they let you limit the quantity of occurrences of some event rather than the total amount you will spend.\n",
      "Vector: [-0.8307914  -0.15541473 -0.7619836   0.22444737  1.0752674 ]...\n",
      "Doc: mean they let you limit the quantity of occurrences of some event rather than the total amount you will spend.\n",
      "LangSmith lets you set two different monthly limits, mirroring our Billable Metrics discussed in the aforementioned data retention guide:\n",
      "Vector: [-0.7365145   0.09503919 -0.8498155   0.92432415 -0.21307237]...\n",
      "Doc: All traces limit\n",
      "Extended data retention traces limit\n",
      "\n",
      "These let you limit the number of total traces, and extended data retention traces respectively.\n",
      "Properties of usage limiting​\n",
      "Usage limiting is approximate, meaning that we do not guarantee the exactness of the limit. In rare cases, there\n",
      "may be a small period of time where additional traces are processed above the limit threshold before usage limiting\n",
      "begins to apply.\n",
      "Side effects of extended data retention traces limit​\n",
      "The extended data retention traces limit has side effects. If the limit is already reached, any feature that could\n",
      "cause an auto-upgrade of tracing tiers becomes inaccessible. This is because an auto-upgrade of a trace would cause\n",
      "another extended retention trace to be created, which in turn should not be allowed by the limit. Therefore, you can\n",
      "no longer:\n",
      "\n",
      "match run rules\n",
      "add feedback to traces\n",
      "add runs to annotation queues\n",
      "Vector: [-0.7230354 -1.0952692  0.7877405  1.8624293  1.7937318]...\n",
      "Doc: match run rules\n",
      "add feedback to traces\n",
      "add runs to annotation queues\n",
      "\n",
      "Each of these features may cause an auto upgrade, so we shut them off when the limit is reached.\n",
      "Updating usage limits​\n",
      "Usage limits can be updated from the Settings page under Usage and Billing. Limit values are cached, so it\n",
      "may take a minute or two before the new limits apply.\n",
      "Related content​\n",
      "\n",
      "Tutorial on how to optimize spend\n",
      "Was this page helpful?You can leave detailed feedback on GitHub.PreviousSCIM User Provisioning (Beta)NextSelf-hostingResource HierarchyOrganizationsWorkspacesResource tagsUser Management and RBACUsersAPI keysOrganization rolesWorkspace roles (RBAC)Best PracticesEnvironment SeparationUsage and BillingData RetentionRate LimitsUsage LimitsRelated contentCommunityLangChain ForumTwitterGitHubDocs CodeLangSmith SDKPythonJS/TSMoreHomepageBlogLangChain Python DocsLangChain JS/TS DocsCopyright © 2025 LangChain, Inc.\n",
      "Vector: [ 0.33645463 -0.35699156  0.3056506  -0.61029464  0.21288872]...\n"
     ]
    }
   ],
   "source": [
    "for i in range(vectorstoredb.index.ntotal):\n",
    "    vector = vectorstoredb.index.reconstruct(i)\n",
    "    doc_id = vectorstoredb.index_to_docstore_id[i]\n",
    "    doc_content = vectorstoredb.docstore._dict[doc_id].page_content\n",
    "    print(f\"Doc: {doc_content}\\nVector: {vector[:5]}...\")  # print first 5 dims\n"
   ]
  },
  {
   "cell_type": "code",
   "execution_count": 33,
   "id": "04b61df8",
   "metadata": {},
   "outputs": [
    {
     "data": {
      "text/plain": [
       "'Organization Admin grants full access to manage all organization configuration, users, billing, and workspaces. An Organization Admin has Admin access to all workspaces in an organization\\nOrganization User may read organization information but cannot execute any write actions at the organization level. An Organization User can be added to a subset of workspaces and assigned workspace roles as usual (if RBAC is enabled), which specify permissions at the workspace level.'"
      ]
     },
     "execution_count": 33,
     "metadata": {},
     "output_type": "execute_result"
    }
   ],
   "source": [
    "query = \"Organization roles are distinct from the Enterprise feature (RBAC) \"\n",
    "result = vectorstoredb.similarity_search(query)\n",
    "result[0].page_content"
   ]
  },
  {
   "cell_type": "code",
   "execution_count": 34,
   "id": "8158b2ff",
   "metadata": {},
   "outputs": [
    {
     "data": {
      "text/plain": [
       "RunnableBinding(bound=RunnableBinding(bound=RunnableAssign(mapper={\n",
       "  context: RunnableLambda(format_docs)\n",
       "}), kwargs={}, config={'run_name': 'format_inputs'}, config_factories=[])\n",
       "| ChatPromptTemplate(input_variables=['context'], input_types={}, partial_variables={}, messages=[HumanMessagePromptTemplate(prompt=PromptTemplate(input_variables=['context'], input_types={}, partial_variables={}, template='\\nAnswer the following question based only on the provided context:\\n<context>\\n{context}\\n</context>\\n'), additional_kwargs={})])\n",
       "| ChatGoogleGenerativeAI(model='models/gemini-2.5-flash', google_api_key=SecretStr('**********'), client=<google.ai.generativelanguage_v1beta.services.generative_service.client.GenerativeServiceClient object at 0x000001A8F8788E10>, default_metadata=(), model_kwargs={})\n",
       "| StrOutputParser(), kwargs={}, config={'run_name': 'stuff_documents_chain'}, config_factories=[])"
      ]
     },
     "execution_count": 34,
     "metadata": {},
     "output_type": "execute_result"
    }
   ],
   "source": [
    "# Retrieval Chain , Document Chain  {Most important}\n",
    "from langchain_google_genai import ChatGoogleGenerativeAI\n",
    "from langchain.chains.combine_documents import create_stuff_documents_chain\n",
    "from langchain_core.prompts import ChatPromptTemplate\n",
    "llm = ChatGoogleGenerativeAI(model=\"gemini-2.5-flash\")\n",
    "\n",
    "prompt = ChatPromptTemplate.from_template(\n",
    "    \"\"\"\n",
    "Answer the following question based only on the provided context:\n",
    "<context>\n",
    "{context}\n",
    "</context>\n",
    "\"\"\"\n",
    ")\n",
    "\n",
    "document_chain =  create_stuff_documents_chain(llm, prompt)\n",
    "document_chain"
   ]
  },
  {
   "cell_type": "code",
   "execution_count": 37,
   "id": "3d802b24",
   "metadata": {},
   "outputs": [
    {
     "data": {
      "text/plain": [
       "'An Organization Admin grants full access to manage all organization configuration, users, billing, and workspaces.'"
      ]
     },
     "execution_count": 37,
     "metadata": {},
     "output_type": "execute_result"
    }
   ],
   "source": [
    "from langchain_core.documents import Document\n",
    "\n",
    "document_chain.invoke(\n",
    "    {\n",
    "        \"input\": \"Organization roles are distinct from the Enterprise feature (RBAC)\",\n",
    "        \"context\": [\n",
    "            Document(\n",
    "                page_content=\"Organization roles are distinct from the Enterprise feature (RBAC), Organization Admin grants full access to manage all organization configuration, users, billing, and workspaces\"\n",
    "            )\n",
    "        ]\n",
    "    }\n",
    ")"
   ]
  },
  {
   "cell_type": "markdown",
   "id": "f1a44bbb",
   "metadata": {},
   "source": [
    "However we want the documents to first come the retriever we just set up. That way , we can use the retriever to dynamically select the most relevant documents and pass those in for a given question"
   ]
  },
  {
   "cell_type": "code",
   "execution_count": null,
   "id": "7677d471",
   "metadata": {},
   "outputs": [
    {
     "data": {
      "text/plain": [
       "<langchain_community.vectorstores.faiss.FAISS at 0x1a89dd5f110>"
      ]
     },
     "execution_count": 38,
     "metadata": {},
     "output_type": "execute_result"
    }
   ],
   "source": [
    "## Input --> Retriever \n",
    "vectorstoredb"
   ]
  },
  {
   "cell_type": "code",
   "execution_count": 41,
   "id": "db55688f",
   "metadata": {},
   "outputs": [],
   "source": [
    "# Create a retriever \n",
    "retriever = vectorstoredb.as_retriever()\n",
    "from langchain.chains import create_retrieval_chain\n",
    "retrieval_chain =  create_retrieval_chain(retriever, document_chain) "
   ]
  },
  {
   "cell_type": "code",
   "execution_count": 42,
   "id": "619eb43f",
   "metadata": {},
   "outputs": [
    {
     "data": {
      "text/plain": [
       "RunnableBinding(bound=RunnableAssign(mapper={\n",
       "  context: RunnableBinding(bound=RunnableLambda(lambda x: x['input'])\n",
       "           | VectorStoreRetriever(tags=['FAISS', 'OllamaEmbeddings'], vectorstore=<langchain_community.vectorstores.faiss.FAISS object at 0x000001A89DD5F110>, search_kwargs={}), kwargs={}, config={'run_name': 'retrieve_documents'}, config_factories=[])\n",
       "})\n",
       "| RunnableAssign(mapper={\n",
       "    answer: RunnableBinding(bound=RunnableBinding(bound=RunnableAssign(mapper={\n",
       "              context: RunnableLambda(format_docs)\n",
       "            }), kwargs={}, config={'run_name': 'format_inputs'}, config_factories=[])\n",
       "            | ChatPromptTemplate(input_variables=['context'], input_types={}, partial_variables={}, messages=[HumanMessagePromptTemplate(prompt=PromptTemplate(input_variables=['context'], input_types={}, partial_variables={}, template='\\nAnswer the following question based only on the provided context:\\n<context>\\n{context}\\n</context>\\n'), additional_kwargs={})])\n",
       "            | ChatGoogleGenerativeAI(model='models/gemini-2.5-flash', google_api_key=SecretStr('**********'), client=<google.ai.generativelanguage_v1beta.services.generative_service.client.GenerativeServiceClient object at 0x000001A8F8788E10>, default_metadata=(), model_kwargs={})\n",
       "            | StrOutputParser(), kwargs={}, config={'run_name': 'stuff_documents_chain'}, config_factories=[])\n",
       "  }), kwargs={}, config={'run_name': 'retrieval_chain'}, config_factories=[])"
      ]
     },
     "execution_count": 42,
     "metadata": {},
     "output_type": "execute_result"
    }
   ],
   "source": [
    "retrieval_chain"
   ]
  },
  {
   "cell_type": "code",
   "execution_count": 43,
   "id": "19129a48",
   "metadata": {},
   "outputs": [
    {
     "data": {
      "text/plain": [
       "{'input': 'Organization Admin grants full access to manage all organization configuration, users, billing, and workspaces',\n",
       " 'context': [Document(id='343b9e69-3f0d-4feb-a013-be788b8c5bc3', metadata={'source': 'https://docs.smith.langchain.com/administration/concepts', 'title': 'Concepts | 🦜️🛠️ LangSmith', 'description': 'This conceptual guide covers topics related to managing users, organizations, and workspaces within LangSmith.', 'language': 'en'}, page_content='All traces limit\\nExtended data retention traces limit\\n\\nThese let you limit the number of total traces, and extended data retention traces respectively.\\nProperties of usage limiting\\u200b\\nUsage limiting is approximate, meaning that we do not guarantee the exactness of the limit. In rare cases, there\\nmay be a small period of time where additional traces are processed above the limit threshold before usage limiting\\nbegins to apply.\\nSide effects of extended data retention traces limit\\u200b\\nThe extended data retention traces limit has side effects. If the limit is already reached, any feature that could\\ncause an auto-upgrade of tracing tiers becomes inaccessible. This is because an auto-upgrade of a trace would cause\\nanother extended retention trace to be created, which in turn should not be allowed by the limit. Therefore, you can\\nno longer:\\n\\nmatch run rules\\nadd feedback to traces\\nadd runs to annotation queues'),\n",
       "  Document(id='63efd8e2-02df-465a-b361-499e6f66f811', metadata={'source': 'https://docs.smith.langchain.com/administration/concepts', 'title': 'Concepts | 🦜️🛠️ LangSmith', 'description': 'This conceptual guide covers topics related to managing users, organizations, and workspaces within LangSmith.', 'language': 'en'}, page_content='Organization Admin grants full access to manage all organization configuration, users, billing, and workspaces. An Organization Admin has Admin access to all workspaces in an organization\\nOrganization User may read organization information but cannot execute any write actions at the organization level. An Organization User can be added to a subset of workspaces and assigned workspace roles as usual (if RBAC is enabled), which specify permissions at the workspace level.'),\n",
       "  Document(id='f5d0fece-f339-48e4-b838-e3af314ac9cd', metadata={'source': 'https://docs.smith.langchain.com/administration/concepts', 'title': 'Concepts | 🦜️🛠️ LangSmith', 'description': 'This conceptual guide covers topics related to managing users, organizations, and workspaces within LangSmith.', 'language': 'en'}, page_content=\"When you log in for the first time, a personal organization will be created for you automatically. If you'd like to collaborate with others, you can create a separate organization and invite your team members to join.\\nThere are a few important differences between your personal organization and shared organizations:\\nFeaturePersonalSharedMaximum workspaces1Variable, depending on plan (see pricing pageCollaborationCannot invite usersCan invite usersBilling: paid plansDeveloper plan onlyAll other plans available\\nWorkspaces\\u200b\\ninfoWorkspaces were formerly called Tenants. Some code and APIs may still reference the old name for a period of time during the transition.\\nA workspace is a logical grouping of users and resources within an organization. A workspace separates trust boundaries for resources and access control.\"),\n",
       "  Document(id='d6d72961-3cee-464b-91ba-2d9590bdd9f6', metadata={'source': 'https://docs.smith.langchain.com/administration/concepts', 'title': 'Concepts | 🦜️🛠️ LangSmith', 'description': 'This conceptual guide covers topics related to managing users, organizations, and workspaces within LangSmith.', 'language': 'en'}, page_content='User Management and RBAC\\u200b\\nUsers\\u200b\\nA user is a person who has access to LangSmith. Users can be members of one or more organizations and workspaces within those organizations.\\nOrganization members are managed in organization settings:\\n\\nAnd workspace members are managed in workspace settings:')],\n",
       " 'answer': 'Based on the provided context, an Organization Admin has Admin access to all workspaces in an organization.'}"
      ]
     },
     "execution_count": 43,
     "metadata": {},
     "output_type": "execute_result"
    }
   ],
   "source": [
    "# Get the response from the LLM\n",
    "retrieval_chain.invoke({\"input\":\"Organization Admin grants full access to manage all organization configuration, users, billing, and workspaces\"})\n"
   ]
  }
 ],
 "metadata": {
  "kernelspec": {
   "display_name": "venv_langchain",
   "language": "python",
   "name": "python3"
  },
  "language_info": {
   "codemirror_mode": {
    "name": "ipython",
    "version": 3
   },
   "file_extension": ".py",
   "mimetype": "text/x-python",
   "name": "python",
   "nbconvert_exporter": "python",
   "pygments_lexer": "ipython3",
   "version": "3.13.4"
  }
 },
 "nbformat": 4,
 "nbformat_minor": 5
}
